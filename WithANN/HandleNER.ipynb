{
 "cells": [
  {
   "cell_type": "code",
   "execution_count": 15,
   "metadata": {},
   "outputs": [],
   "source": [
    "import numpy as np\n",
    "from sklearn.model_selection import ShuffleSplit\n",
    "from data_utils import ENTITIES, Documents, Dataset, SentenceExtractor, make_predictions\n",
    "from data_utils import Evaluator\n",
    "from models import build_lstm_crf_model\n",
    "from gensim.models import Word2Vec"
   ]
  },
  {
   "cell_type": "code",
   "execution_count": 16,
   "metadata": {},
   "outputs": [],
   "source": [
    "data_dir = 'brat/'\n",
    "ent2idx = dict(zip(ENTITIES, range(1, len(ENTITIES) + 1)))\n",
    "idx2ent = dict([(v, k) for k, v in ent2idx.items()])"
   ]
  },
  {
   "cell_type": "code",
   "execution_count": 17,
   "metadata": {},
   "outputs": [],
   "source": [
    "#载入文件\n",
    "docs = Documents(data_dir=data_dir)\n",
    "#分配训练集和测试集\n",
    "#自动迭代，返回id\n",
    "rs = ShuffleSplit(n_splits=1, test_size=20, random_state=2018)\n",
    "train_doc_ids, test_doc_ids = next(rs.split(docs))\n",
    "train_docs, test_docs = docs[train_doc_ids], docs[test_doc_ids]"
   ]
  },
  {
   "cell_type": "code",
   "execution_count": 21,
   "metadata": {},
   "outputs": [],
   "source": [
    "#实体个数\n",
    "num_cates = max(ent2idx.values()) + 1\n",
    "#句子长度\n",
    "sent_len = 64\n",
    "vocab_size = 3000\n",
    "#向量长度\n",
    "emb_size = 100\n",
    "#两头padding长度\n",
    "sent_pad = 10\n",
    "#抽取句子\n",
    "sent_extrator = SentenceExtractor(window_size=sent_len, pad_size=sent_pad)\n",
    "train_sents = sent_extrator(train_docs)\n",
    "test_sents = sent_extrator(test_docs)\n",
    "train_data = Dataset(train_sents, cate2idx=ent2idx)\n",
    "train_data.build_vocab_dict(vocab_size=vocab_size)\n",
    "test_data = Dataset(test_sents, word2idx=train_data.word2idx, cate2idx=ent2idx)\n",
    "vocab_size = len(train_data.word2idx)"
   ]
  },
  {
   "cell_type": "code",
   "execution_count": 22,
   "metadata": {},
   "outputs": [],
   "source": [
    "w2v_train_sents = []\n",
    "for doc in docs:\n",
    "    w2v_train_sents.append(list(doc.text))\n",
    "    \n",
    "    \n",
    "w2v_model = Word2Vec(w2v_train_sents, size=emb_size)\n",
    "w2v_embeddings = np.zeros((vocab_size, emb_size))\n",
    "for char, char_idx in train_data.word2idx.items():\n",
    "    if char in w2v_model.wv:\n",
    "        w2v_embeddings[char_idx] = w2v_model.wv[char]"
   ]
  },
  {
   "cell_type": "code",
   "execution_count": 23,
   "metadata": {
    "scrolled": true
   },
   "outputs": [
    {
     "name": "stderr",
     "output_type": "stream",
     "text": [
      "G:\\Coding\\Anaconda3\\envs\\ner\\lib\\site-packages\\keras_contrib-2.0.8-py3.6.egg\\keras_contrib\\layers\\crf.py:346: UserWarning: CRF.loss_function is deprecated and it might be removed in the future. Please use losses.crf_loss instead.\n",
      "G:\\Coding\\Anaconda3\\envs\\ner\\lib\\site-packages\\keras_contrib-2.0.8-py3.6.egg\\keras_contrib\\layers\\crf.py:353: UserWarning: CRF.accuracy is deprecated and it might be removed in the future. Please use metrics.crf_accuracy\n"
     ]
    },
    {
     "name": "stdout",
     "output_type": "stream",
     "text": [
      "WARNING:tensorflow:From G:\\Coding\\Anaconda3\\envs\\ner\\lib\\site-packages\\tensorflow\\python\\ops\\math_ops.py:2403: add_dispatch_support.<locals>.wrapper (from tensorflow.python.ops.array_ops) is deprecated and will be removed in a future version.\n",
      "Instructions for updating:\n",
      "Use tf.where in 2.0, which has the same broadcast rule as np.where\n",
      "Model: \"model_1\"\n",
      "_________________________________________________________________\n",
      "Layer (type)                 Output Shape              Param #   \n",
      "=================================================================\n",
      "input_1 (InputLayer)         (None, 84)                0         \n",
      "_________________________________________________________________\n",
      "embedding_1 (Embedding)      (None, 84, 100)           15100     \n",
      "_________________________________________________________________\n",
      "bidirectional_1 (Bidirection (None, 84, 512)           731136    \n",
      "_________________________________________________________________\n",
      "crf_1 (CRF)                  (None, 84, 40)            22200     \n",
      "=================================================================\n",
      "Total params: 768,436\n",
      "Trainable params: 753,336\n",
      "Non-trainable params: 15,100\n",
      "_________________________________________________________________\n"
     ]
    }
   ],
   "source": [
    "#句子的长度前后都padding\n",
    "seq_len = sent_len + 2 * sent_pad\n",
    "model = build_lstm_crf_model(num_cates, seq_len=seq_len, vocab_size=vocab_size, \n",
    "                             model_opts={'emb_matrix': w2v_embeddings, 'emb_size': 100, 'emb_trainable': False})\n",
    "model.summary()"
   ]
  },
  {
   "cell_type": "code",
   "execution_count": 24,
   "metadata": {},
   "outputs": [
    {
     "name": "stdout",
     "output_type": "stream",
     "text": [
      "train_X.shape (50146, 84)\n",
      "train_y.shape (50146, 84, 1)\n"
     ]
    }
   ],
   "source": [
    "train_X, train_y = train_data[:]\n",
    "print('train_X.shape', train_X.shape)\n",
    "print('train_y.shape', train_y.shape)"
   ]
  },
  {
   "cell_type": "code",
   "execution_count": 25,
   "metadata": {},
   "outputs": [
    {
     "name": "stdout",
     "output_type": "stream",
     "text": [
      "WARNING:tensorflow:From G:\\Coding\\Anaconda3\\envs\\ner\\lib\\site-packages\\keras\\backend\\tensorflow_backend.py:422: The name tf.global_variables is deprecated. Please use tf.compat.v1.global_variables instead.\n",
      "\n",
      "Epoch 1/10\n",
      "50146/50146 [==============================] - 342s 7ms/step - loss: 0.6657 - crf_viterbi_accuracy: 0.8035\n",
      "Epoch 2/10\n",
      "50146/50146 [==============================] - 358s 7ms/step - loss: 0.2414 - crf_viterbi_accuracy: 0.8897\n",
      "Epoch 3/10\n",
      "50146/50146 [==============================] - 374s 7ms/step - loss: 0.1335 - crf_viterbi_accuracy: 0.9251\n",
      "Epoch 4/10\n",
      "50146/50146 [==============================] - 376s 8ms/step - loss: 0.0903 - crf_viterbi_accuracy: 0.9415\n",
      "Epoch 5/10\n",
      "50146/50146 [==============================] - 387s 8ms/step - loss: 0.0664 - crf_viterbi_accuracy: 0.9519\n",
      "Epoch 6/10\n",
      "50146/50146 [==============================] - 353s 7ms/step - loss: 0.0505 - crf_viterbi_accuracy: 0.9594\n",
      "Epoch 7/10\n",
      "50146/50146 [==============================] - 337s 7ms/step - loss: 0.0386 - crf_viterbi_accuracy: 0.9648\n",
      "Epoch 8/10\n",
      "50146/50146 [==============================] - 334s 7ms/step - loss: 0.0286 - crf_viterbi_accuracy: 0.9688\n",
      "Epoch 9/10\n",
      "50146/50146 [==============================] - 308s 6ms/step - loss: 0.0188 - crf_viterbi_accuracy: 0.9730\n",
      "Epoch 10/10\n",
      "50146/50146 [==============================] - 319s 6ms/step - loss: 0.0098 - crf_viterbi_accuracy: 0.9760\n"
     ]
    },
    {
     "data": {
      "text/plain": [
       "<keras.callbacks.callbacks.History at 0x2d2258f1358>"
      ]
     },
     "execution_count": 25,
     "metadata": {},
     "output_type": "execute_result"
    }
   ],
   "source": [
    "model.fit(train_X,train_y, batch_size=64, epochs=10)"
   ]
  },
  {
   "cell_type": "code",
   "execution_count": 26,
   "metadata": {},
   "outputs": [
    {
     "name": "stdout",
     "output_type": "stream",
     "text": [
      "13837/13837 [==============================] - 32s 2ms/step\n"
     ]
    }
   ],
   "source": [
    "test_X, _ = test_data[:]\n",
    "preds = model.predict(test_X, batch_size=64, verbose=True)\n",
    "pred_docs = make_predictions(preds, test_data, sent_pad, docs, idx2ent)"
   ]
  },
  {
   "cell_type": "code",
   "execution_count": 27,
   "metadata": {},
   "outputs": [
    {
     "name": "stdout",
     "output_type": "stream",
     "text": [
      "f_score:  0.8132386220769424\n",
      "precision:  0.9132752108997212\n",
      "recall:  0.7329537406872326\n"
     ]
    }
   ],
   "source": [
    "f_score, precision, recall = Evaluator.f1_score(test_docs, pred_docs)\n",
    "print('f_score: ', f_score)\n",
    "print('precision: ', precision)\n",
    "print('recall: ', recall)"
   ]
  },
  {
   "cell_type": "code",
   "execution_count": 28,
   "metadata": {},
   "outputs": [],
   "source": [
    "#处理类别标签\n",
    "\n",
    "import os\n",
    "data_dir = 'brat/'\n",
    "sec_doc_ids = [data_dir+fname.split('.')[0]+\".ann\" for fname in os.listdir(data_dir)]\n",
    "sec_doc_ids= np.unique(sec_doc_ids)"
   ]
  },
  {
   "cell_type": "code",
   "execution_count": 29,
   "metadata": {},
   "outputs": [],
   "source": [
    "#load file\n",
    "def txt_strtonum_feed(filename):\n",
    "    print(filename)\n",
    "    data = []\n",
    "    flag=True\n",
    "    with open(filename, 'r', encoding='UTF-8') as f:#with auto call close()\n",
    "        line = f.readline()\n",
    "        \n",
    "        while line:\n",
    "            read_data = line.split('\\n')\n",
    "            if flag:\n",
    "                flag=False\n",
    "                line = f.readline()\n",
    "                continue\n",
    "                \n",
    "            read_data = read_data[0].split('\\t')\n",
    "            #\"brat/12585968.ann\"末尾存在不符合规则的内容\n",
    "            if len(read_data) < 3:\n",
    "                line = f.readline()\n",
    "                continue\n",
    "            \n",
    "            first = read_data[1].split()[0].split(\":\")[0]\n",
    "            second = read_data[1].split()[0]\n",
    "            third=read_data[2]\n",
    "            data.append((first,second,third))\n",
    "            line = f.readline()\n",
    "        return data"
   ]
  },
  {
   "cell_type": "code",
   "execution_count": 30,
   "metadata": {},
   "outputs": [
    {
     "name": "stdout",
     "output_type": "stream",
     "text": [
      "brat/11319941.ann\n",
      "brat/11532192.ann\n",
      "brat/11597317.ann\n",
      "brat/11604102.ann\n",
      "brat/11897010.ann\n",
      "brat/12079497.ann\n",
      "brat/12546709.ann\n",
      "brat/12585968.ann\n",
      "brat/12925238.ann\n",
      "brat/14609438.ann\n",
      "brat/14611657.ann\n",
      "brat/14624252.ann\n",
      "brat/14675480.ann\n",
      "brat/14691534.ann\n",
      "brat/14723793.ann\n",
      "brat/14737183.ann\n",
      "brat/15005800.ann\n",
      "brat/15018652.ann\n",
      "brat/15040800.ann\n",
      "brat/15061865.ann\n",
      "brat/15070402.ann\n",
      "brat/15207008.ann\n",
      "brat/15238161.ann\n",
      "brat/15314655.ann\n",
      "brat/15314659.ann\n",
      "brat/15320950.ann\n",
      "brat/15328533.ann\n",
      "brat/15328538.ann\n",
      "brat/15345036.ann\n",
      "brat/15492776.ann\n",
      "brat/15550985.ann\n",
      "brat/15560850.ann\n",
      "brat/15588329.ann\n",
      "brat/15615595.ann\n",
      "brat/15619330.ann\n",
      "brat/15630473.ann\n",
      "brat/15676071.ann\n",
      "brat/15760270.ann\n",
      "brat/15784609.ann\n",
      "brat/15819996.ann\n",
      "brat/15836427.ann\n",
      "brat/15850489.ann\n",
      "brat/15876356.ann\n",
      "brat/15882093.ann\n",
      "brat/15917436.ann\n",
      "brat/15921521.ann\n",
      "brat/15938754.ann\n",
      "brat/16026622.ann\n",
      "brat/16027110.ann\n",
      "brat/16098226.ann\n",
      "brat/16103912.ann\n",
      "brat/16109169.ann\n",
      "brat/16110338.ann\n",
      "brat/16121255.ann\n",
      "brat/16121256.ann\n",
      "brat/16216087.ann\n",
      "brat/16221973.ann\n",
      "brat/16255782.ann\n",
      "brat/16279840.ann\n",
      "brat/16362077.ann\n",
      "brat/16410827.ann\n",
      "brat/16433929.ann\n",
      "brat/16462940.ann\n",
      "brat/16504143.ann\n",
      "brat/16504174.ann\n",
      "brat/16507151.ann\n",
      "brat/16517939.ann\n",
      "brat/16539743.ann\n",
      "brat/16579849.ann\n",
      "brat/16611361.ann\n",
      "brat/16628246.ann\n",
      "brat/16670015.ann\n",
      "brat/16700629.ann\n",
      "brat/16787536.ann\n",
      "brat/16800892.ann\n",
      "brat/16870721.ann\n",
      "brat/16968134.ann\n",
      "brat/17002498.ann\n",
      "brat/17020410.ann\n",
      "brat/17022820.ann\n",
      "brat/17029558.ann\n",
      "brat/17069463.ann\n",
      "brat/17078885.ann\n",
      "brat/17083276.ann\n",
      "brat/17194222.ann\n",
      "brat/17201918.ann\n",
      "brat/17206865.ann\n",
      "brat/17244351.ann\n",
      "brat/17425782.ann\n",
      "brat/17447844.ann\n",
      "brat/17465682.ann\n",
      "brat/17503968.ann\n",
      "brat/17565376.ann\n",
      "brat/17590087.ann\n",
      "brat/17608565.ann\n",
      "brat/17677002.ann\n",
      "brat/17696610.ann\n"
     ]
    }
   ],
   "source": [
    "data_ = []\n",
    "for i in sec_doc_ids:\n",
    "    data_+=(txt_strtonum_feed(i))"
   ]
  },
  {
   "cell_type": "code",
   "execution_count": 31,
   "metadata": {},
   "outputs": [],
   "source": [
    "uni_data_ = list(set(data_))"
   ]
  },
  {
   "cell_type": "code",
   "execution_count": 32,
   "metadata": {},
   "outputs": [],
   "source": [
    "with open(\"unidata_class.txt\", 'w', encoding='UTF-8') as f:\n",
    "    for i in uni_data_:\n",
    "        data_str = i[1]+\"\\t\"+i[0]+\"\\t\"+i[2]+\"\\n\"\n",
    "        f.write(data_str)\n",
    "        \n",
    "        "
   ]
  },
  {
   "cell_type": "code",
   "execution_count": 33,
   "metadata": {},
   "outputs": [],
   "source": [
    "#获取bert词向量\n",
    "from bert_serving.client import BertClient"
   ]
  },
  {
   "cell_type": "code",
   "execution_count": 41,
   "metadata": {},
   "outputs": [],
   "source": [
    "bc = BertClient()"
   ]
  },
  {
   "cell_type": "code",
   "execution_count": 34,
   "metadata": {},
   "outputs": [],
   "source": [
    "#load file\n",
    "def txt_strtonum_feed_load(filename):\n",
    "    load_data1 = []\n",
    "    load_data2 = []\n",
    "    flag=True\n",
    "    with open(filename, 'r', encoding='UTF-8') as f:#with auto call close()\n",
    "        line = f.readline()\n",
    "        while line:\n",
    "            read_line = line.split(\"\\t\")\n",
    "            load_data1.append(read_line[0])\n",
    "            load_data2.append(read_line[1]+\" \"+read_line[2][:-1] )\n",
    "            line = f.readline()\n",
    "        return load_data1,load_data2"
   ]
  },
  {
   "cell_type": "code",
   "execution_count": 35,
   "metadata": {},
   "outputs": [],
   "source": [
    "load_data1,load_data2 = txt_strtonum_feed_load(\"unidata_class.txt\")"
   ]
  },
  {
   "cell_type": "code",
   "execution_count": 43,
   "metadata": {},
   "outputs": [],
   "source": [
    "a = bc.encode(load_data2[0:100]) "
   ]
  },
  {
   "cell_type": "code",
   "execution_count": 44,
   "metadata": {},
   "outputs": [
    {
     "name": "stdout",
     "output_type": "stream",
     "text": [
      "1\n",
      "2\n",
      "3\n",
      "4\n",
      "5\n",
      "6\n",
      "7\n",
      "8\n",
      "9\n",
      "10\n",
      "11\n",
      "12\n",
      "13\n",
      "14\n",
      "15\n",
      "16\n",
      "17\n",
      "18\n",
      "19\n",
      "20\n",
      "21\n",
      "22\n",
      "23\n",
      "24\n",
      "25\n",
      "26\n",
      "27\n",
      "28\n",
      "29\n",
      "30\n",
      "31\n",
      "32\n",
      "33\n",
      "34\n",
      "35\n",
      "36\n",
      "37\n",
      "38\n",
      "39\n",
      "40\n",
      "41\n",
      "42\n",
      "43\n",
      "44\n",
      "45\n",
      "46\n",
      "47\n",
      "48\n",
      "49\n",
      "50\n",
      "51\n",
      "52\n",
      "53\n",
      "54\n",
      "55\n",
      "56\n",
      "57\n",
      "58\n",
      "59\n",
      "60\n",
      "61\n",
      "62\n",
      "63\n",
      "64\n",
      "65\n",
      "66\n",
      "67\n",
      "68\n",
      "69\n",
      "70\n",
      "71\n",
      "72\n",
      "73\n",
      "74\n",
      "75\n",
      "76\n",
      "77\n",
      "78\n",
      "79\n",
      "80\n",
      "81\n",
      "82\n",
      "83\n",
      "84\n",
      "85\n",
      "86\n",
      "87\n",
      "88\n",
      "89\n",
      "90\n",
      "91\n",
      "92\n",
      "93\n",
      "94\n",
      "95\n",
      "96\n",
      "97\n",
      "98\n",
      "99\n",
      "100\n",
      "101\n",
      "102\n",
      "103\n",
      "104\n",
      "105\n",
      "106\n",
      "107\n",
      "108\n",
      "109\n",
      "110\n",
      "111\n",
      "112\n",
      "113\n",
      "114\n",
      "115\n",
      "116\n",
      "117\n",
      "118\n",
      "119\n",
      "120\n",
      "121\n",
      "122\n",
      "123\n",
      "124\n",
      "125\n",
      "126\n",
      "127\n",
      "128\n"
     ]
    }
   ],
   "source": [
    "for i in range(1,129):\n",
    "    b = bc.encode(load_data2[i*100:(i*100+100)]) \n",
    "    a = np.concatenate((a,b))\n",
    "    print(i)"
   ]
  },
  {
   "cell_type": "code",
   "execution_count": 45,
   "metadata": {},
   "outputs": [],
   "source": [
    "b = bc.encode(load_data2[12900:12971]) \n",
    "a = np.concatenate((a,b))"
   ]
  },
  {
   "cell_type": "code",
   "execution_count": 55,
   "metadata": {},
   "outputs": [],
   "source": [
    "e = bc.encode([load_data2[12971]]) "
   ]
  },
  {
   "cell_type": "code",
   "execution_count": 57,
   "metadata": {},
   "outputs": [],
   "source": [
    "a = np.concatenate((a,e))"
   ]
  },
  {
   "cell_type": "code",
   "execution_count": 46,
   "metadata": {},
   "outputs": [],
   "source": [
    "import pickle"
   ]
  },
  {
   "cell_type": "code",
   "execution_count": 77,
   "metadata": {},
   "outputs": [],
   "source": [
    "fw = open('dataFile.txt','wb')\n",
    "pickle.dump(a, fw)\n",
    "fw.close()\n"
   ]
  },
  {
   "cell_type": "code",
   "execution_count": 37,
   "metadata": {},
   "outputs": [],
   "source": [
    "fw = open('dataFilepred_docs.txt','wb')\n",
    "pickle.dump(pred_docs, fw)\n",
    "fw.close()"
   ]
  },
  {
   "cell_type": "code",
   "execution_count": 38,
   "metadata": {},
   "outputs": [],
   "source": [
    "fw = open('dataFiletest_docs.txt','wb')\n",
    "pickle.dump(test_docs, fw)\n",
    "fw.close()"
   ]
  },
  {
   "cell_type": "code",
   "execution_count": 39,
   "metadata": {},
   "outputs": [],
   "source": [
    "fw = open('detaillabel.txt','wb')\n",
    "pickle.dump(load_data1, fw)\n",
    "fw.close()"
   ]
  },
  {
   "cell_type": "code",
   "execution_count": 40,
   "metadata": {},
   "outputs": [],
   "source": [
    "fw = open('labellist.txt','wb')\n",
    "pickle.dump(load_data2, fw)\n",
    "fw.close()"
   ]
  },
  {
   "cell_type": "code",
   "execution_count": null,
   "metadata": {},
   "outputs": [],
   "source": []
  }
 ],
 "metadata": {
  "kernelspec": {
   "display_name": "Python 3",
   "language": "python",
   "name": "python3"
  },
  "language_info": {
   "codemirror_mode": {
    "name": "ipython",
    "version": 3
   },
   "file_extension": ".py",
   "mimetype": "text/x-python",
   "name": "python",
   "nbconvert_exporter": "python",
   "pygments_lexer": "ipython3",
   "version": "3.6.9"
  }
 },
 "nbformat": 4,
 "nbformat_minor": 2
}
