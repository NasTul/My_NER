{
 "cells": [
  {
   "cell_type": "code",
   "execution_count": 66,
   "metadata": {},
   "outputs": [],
   "source": [
    "a = "
   ]
  },
  {
   "cell_type": "code",
   "execution_count": 69,
   "metadata": {},
   "outputs": [],
   "source": [
    "for i in a:\n",
    "    print(i)"
   ]
  },
  {
   "cell_type": "code",
   "execution_count": 70,
   "metadata": {},
   "outputs": [],
   "source": [
    "b = dict(zip(['a','b','c','d'],[1,2,3,4]))"
   ]
  },
  {
   "cell_type": "code",
   "execution_count": 71,
   "metadata": {},
   "outputs": [
    {
     "data": {
      "text/plain": [
       "{'a': 1, 'b': 2, 'c': 3, 'd': 4}"
      ]
     },
     "execution_count": 71,
     "metadata": {},
     "output_type": "execute_result"
    }
   ],
   "source": [
    "b"
   ]
  },
  {
   "cell_type": "code",
   "execution_count": 33,
   "metadata": {},
   "outputs": [],
   "source": [
    "ENTITIES = [\n",
    "\"GO_UBERON_EXT\",\"CHEBI_GO_SO_EXT\",\"SO\",\"CHEBI_GO_EXT\",\"PR_EXT\",\"CHEBI_EXT\",\"PATO_SO_EXT\",\"CHEBI_CHMO_EXT\",\"CL_EXT\",\"GO_PATO_UBERON_EXT\",\"MOP\",\"GO_PATO_EXT\",\"GO_RO_EXT\",\"OBI_SO_EXT\",\"GO_EXT\",\"CHEBI_PR_EXT\",\"CHEBI_SO_EXT\",\"CHEBI_MOP_EXT\",\"CL_UBERON_EXT\",\"PATO_UBERON_EXT\",\"NCBITaxon_EXT\",\"CHEBI_UBERON_EXT\",\"UBERON\",\"CHMO_UBERON_EXT\",\"GO_SO_EXT\",\"NCBITaxon\",\"SO_EXT\",\"GO_PR_EXT\",\"PR\",\"CL_GO_EXT\",\"UBERON_EXT\",\"GO_PATO_RO_EXT\",\"CL\",\"CHEBI_GO_PR_EXT\",\"CHEBI\",\"CHEMINF_GO_EXT\",\"NCBITaxon_UBERON_EXT\",\"GO_MOP_EXT\",\"GO\"\n",
    "    ]\n",
    "COLORS = [\n",
    "   \"#47e542\",\"#47e542\",\"#981198\",\"#47e542\",\"#47e542\",\"#47e542\",\"#47e542\",\"#47e542\",\"#47e542\",\"#47e542\",\"#deb887\",\"#47e542\",\"#47e542\",\"#47e542\",\"#47e542\",\"#47e542\",\"#47e542\",\"#47e542\",\"#47e542\",\"#47e542\",\"#47e542\",\"#47e542\",\"#5f9ea0\",\"#47e542\",\"#47e542\",\"#47e542\",\"#47e542\",\"#47e542\",\"#340034\",\"#47e542\",\"#47e542\",\"#47e542\",\"#ffa500\",\"#47e542\",\"#32cd32\",\"#47e542\",\"#47e542\",\"#47e542\",\"#47e542\"\n",
    "]\n",
    "COLOR_MAP = dict(zip([ent.upper() for ent in ENTITIES], COLORS[:len(ENTITIES)]))"
   ]
  },
  {
   "cell_type": "code",
   "execution_count": 81,
   "metadata": {},
   "outputs": [],
   "source": [
    "a_ =zip([ent.upper() for ent in ENTITIES], COLORS)"
   ]
  },
  {
   "cell_type": "code",
   "execution_count": 82,
   "metadata": {},
   "outputs": [],
   "source": [
    "b_ = dict(a_)"
   ]
  },
  {
   "cell_type": "code",
   "execution_count": 83,
   "metadata": {},
   "outputs": [],
   "source": [
    "for i in a_ :\n",
    "    print(i)"
   ]
  },
  {
   "cell_type": "code",
   "execution_count": 84,
   "metadata": {},
   "outputs": [],
   "source": [
    "b_=dict(a_)"
   ]
  },
  {
   "cell_type": "code",
   "execution_count": 85,
   "metadata": {},
   "outputs": [
    {
     "data": {
      "text/plain": [
       "{}"
      ]
     },
     "execution_count": 85,
     "metadata": {},
     "output_type": "execute_result"
    }
   ],
   "source": [
    "b_"
   ]
  },
  {
   "cell_type": "code",
   "execution_count": 89,
   "metadata": {},
   "outputs": [
    {
     "data": {
      "text/plain": [
       "'abc////./cbd/etc'"
      ]
     },
     "execution_count": 89,
     "metadata": {},
     "output_type": "execute_result"
    }
   ],
   "source": [
    "import os\n",
    "os.path.join('abc////','./cbd','etc')"
   ]
  },
  {
   "cell_type": "code",
   "execution_count": 90,
   "metadata": {},
   "outputs": [],
   "source": [
    "a=[1,2,3]"
   ]
  },
  {
   "cell_type": "code",
   "execution_count": 92,
   "metadata": {},
   "outputs": [],
   "source": [
    "a+=[4]"
   ]
  },
  {
   "cell_type": "code",
   "execution_count": 93,
   "metadata": {},
   "outputs": [
    {
     "data": {
      "text/plain": [
       "[1, 2, 3, 4]"
      ]
     },
     "execution_count": 93,
     "metadata": {},
     "output_type": "execute_result"
    }
   ],
   "source": [
    "a"
   ]
  },
  {
   "cell_type": "code",
   "execution_count": 96,
   "metadata": {},
   "outputs": [
    {
     "data": {
      "text/plain": [
       "1"
      ]
     },
     "execution_count": 96,
     "metadata": {},
     "output_type": "execute_result"
    }
   ],
   "source": [
    "import math\n",
    "\n",
    "math.ceil(1.0)"
   ]
  },
  {
   "cell_type": "code",
   "execution_count": null,
   "metadata": {},
   "outputs": [],
   "source": []
  }
 ],
 "metadata": {
  "kernelspec": {
   "display_name": "Python 3",
   "language": "python",
   "name": "python3"
  },
  "language_info": {
   "codemirror_mode": {
    "name": "ipython",
    "version": 3
   },
   "file_extension": ".py",
   "mimetype": "text/x-python",
   "name": "python",
   "nbconvert_exporter": "python",
   "pygments_lexer": "ipython3",
   "version": "3.7.5"
  }
 },
 "nbformat": 4,
 "nbformat_minor": 2
}
