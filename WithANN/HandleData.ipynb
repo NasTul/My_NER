{
 "cells": [
  {
   "cell_type": "code",
   "execution_count": 19,
   "metadata": {},
   "outputs": [],
   "source": [
    "#load file\n",
    "def txt_strtonum_feed1(filename):\n",
    "    datax = []\n",
    "    datay = []\n",
    "    flag=True\n",
    "    with open(filename, 'r', encoding='UTF-8') as f:#with auto call close()\n",
    "        line = f.readline()\n",
    "\n",
    "        while line:\n",
    "            \n",
    "            read_data = line.split('\\n')\n",
    "            if flag:\n",
    "                flag=False\n",
    "                line = f.readline()\n",
    "                continue\n",
    "                \n",
    "            \n",
    "            \n",
    "            read_data = read_data[0].split('\\t')\n",
    "            if read_data[0]==\"[labels]\":\n",
    "                break\n",
    "            #print(read_data)   \n",
    "            read_data[0]=read_data[0].split(\":\")[0]\n",
    "            #datax.append(read_data[0])\n",
    "            read_data[1] = read_data[1].split(\":\")[1]\n",
    "            datay.append(read_data[0]+\"-#-\"+read_data[1])\n",
    "            \n",
    "            \n",
    "            line = f.readline()\n",
    "        return datay"
   ]
  },
  {
   "cell_type": "code",
   "execution_count": 20,
   "metadata": {},
   "outputs": [],
   "source": [
    "data_ = txt_strtonum_feed1(\"visual.conf\")"
   ]
  },
  {
   "cell_type": "code",
   "execution_count": 23,
   "metadata": {},
   "outputs": [],
   "source": [
    "data_ =list(set(data_setx1))"
   ]
  },
  {
   "cell_type": "code",
   "execution_count": 24,
   "metadata": {},
   "outputs": [],
   "source": [
    "data_setx1=[]\n",
    "data_sety1=[]\n",
    "for i in data_:\n",
    "    sub_data = i.split(\"-#-\")\n",
    "    data_setx1.append(sub_data[0])\n",
    "    data_sety1.append(sub_data[1])"
   ]
  },
  {
   "cell_type": "code",
   "execution_count": 29,
   "metadata": {},
   "outputs": [
    {
     "name": "stdout",
     "output_type": "stream",
     "text": [
      "\"GO_UBERON_EXT\",\"CHEBI_GO_SO_EXT\",\"SO\",\"CHEBI_GO_EXT\",\"PR_EXT\",\"CHEBI_EXT\",\"PATO_SO_EXT\",\"CHEBI_CHMO_EXT\",\"CL_EXT\",\"GO_PATO_UBERON_EXT\",\"MOP\",\"GO_PATO_EXT\",\"GO_RO_EXT\",\"OBI_SO_EXT\",\"GO_EXT\",\"CHEBI_PR_EXT\",\"CHEBI_SO_EXT\",\"CHEBI_MOP_EXT\",\"CL_UBERON_EXT\",\"PATO_UBERON_EXT\",\"NCBITaxon_EXT\",\"CHEBI_UBERON_EXT\",\"UBERON\",\"CHMO_UBERON_EXT\",\"GO_SO_EXT\",\"NCBITaxon\",\"SO_EXT\",\"GO_PR_EXT\",\"PR\",\"CL_GO_EXT\",\"UBERON_EXT\",\"GO_PATO_RO_EXT\",\"CL\",\"CHEBI_GO_PR_EXT\",\"CHEBI\",\"CHEMINF_GO_EXT\",\"NCBITaxon_UBERON_EXT\",\"GO_MOP_EXT\",\"GO\",\n"
     ]
    }
   ],
   "source": [
    "string = \"\"\n",
    "for i in data_setx1:\n",
    "    string += \"\\\"\"+i+\"\\\",\"\n",
    "print(string)"
   ]
  },
  {
   "cell_type": "code",
   "execution_count": 28,
   "metadata": {
    "scrolled": true
   },
   "outputs": [
    {
     "name": "stdout",
     "output_type": "stream",
     "text": [
      "\"#47e542\",\"#47e542\",\"#981198\",\"#47e542\",\"#47e542\",\"#47e542\",\"#47e542\",\"#47e542\",\"#47e542\",\"#47e542\",\"#deb887\",\"#47e542\",\"#47e542\",\"#47e542\",\"#47e542\",\"#47e542\",\"#47e542\",\"#47e542\",\"#47e542\",\"#47e542\",\"#47e542\",\"#47e542\",\"#5f9ea0\",\"#47e542\",\"#47e542\",\"#47e542\",\"#47e542\",\"#47e542\",\"#340034\",\"#47e542\",\"#47e542\",\"#47e542\",\"#ffa500\",\"#47e542\",\"#32cd32\",\"#47e542\",\"#47e542\",\"#47e542\",\"#47e542\",\n"
     ]
    }
   ],
   "source": [
    "string = \"\"\n",
    "for i in data_sety1:\n",
    "    string += \"\\\"\"+i+\"\\\",\"\n",
    "print(string)"
   ]
  },
  {
   "cell_type": "code",
   "execution_count": null,
   "metadata": {},
   "outputs": [],
   "source": []
  },
  {
   "cell_type": "code",
   "execution_count": null,
   "metadata": {},
   "outputs": [],
   "source": []
  },
  {
   "cell_type": "code",
   "execution_count": null,
   "metadata": {},
   "outputs": [],
   "source": []
  },
  {
   "cell_type": "code",
   "execution_count": 30,
   "metadata": {},
   "outputs": [
    {
     "name": "stderr",
     "output_type": "stream",
     "text": [
      "Using TensorFlow backend.\n"
     ]
    }
   ],
   "source": [
    "import numpy as np\n",
    "from sklearn.model_selection import ShuffleSplit\n",
    "from data_utils import ENTITIES, Documents, Dataset, SentenceExtractor, make_predictions\n",
    "from data_utils import Evaluator\n",
    "from models import build_lstm_crf_model\n",
    "from gensim.models import Word2Vec"
   ]
  },
  {
   "cell_type": "code",
   "execution_count": null,
   "metadata": {},
   "outputs": [],
   "source": []
  },
  {
   "cell_type": "code",
   "execution_count": null,
   "metadata": {},
   "outputs": [],
   "source": []
  }
 ],
 "metadata": {
  "kernelspec": {
   "display_name": "Python 3",
   "language": "python",
   "name": "python3"
  },
  "language_info": {
   "codemirror_mode": {
    "name": "ipython",
    "version": 3
   },
   "file_extension": ".py",
   "mimetype": "text/x-python",
   "name": "python",
   "nbconvert_exporter": "python",
   "pygments_lexer": "ipython3",
   "version": "3.6.9"
  }
 },
 "nbformat": 4,
 "nbformat_minor": 2
}
